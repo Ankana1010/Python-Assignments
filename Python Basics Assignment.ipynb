{
 "cells": [
  {
   "cell_type": "markdown",
   "id": "5ed01a93-d3a6-4ae2-9ae6-09734ee09093",
   "metadata": {},
   "source": [
    "1. A variable can have a short name (like a & b) or a more descriptive name (age, year, week, month). The conventions used while declaring a variable in python are as follows - \n",
    "A variable name must start with a letter or the underscore character.\n",
    "A variable name cannot start with a number.\n",
    "A variable name can only contain alpha-numeric characters & underscores (Ex - A-z, 0-9, and _ ).\n",
    "Variable names are case-sensitive (Ex - week, Week & WEEK are three different variables).\n",
    "A variable name cannot be any of the Python keywords.\n",
    "Example is given as follows - "
   ]
  },
  {
   "cell_type": "code",
   "execution_count": null,
   "id": "55cee29e-6fa3-4496-bdc4-3930a1dddc1d",
   "metadata": {},
   "outputs": [],
   "source": [
    "myvar = \"Ankana\"\n",
    "my_var = \"Ankana\"\n",
    "_my_var = \"Ankana\"\n",
    "myVar = \"Ankana\"\n",
    "MYVAR = \"Ankana\"\n",
    "myvar2 = \"Ankana\""
   ]
  },
  {
   "cell_type": "code",
   "execution_count": 4,
   "id": "70ffcb9d-d902-464a-b2d7-a6ece542437c",
   "metadata": {},
   "outputs": [
    {
     "name": "stdout",
     "output_type": "stream",
     "text": [
      "Ankana\n",
      "Ankana\n",
      "Ankana\n",
      "Ankana\n",
      "Ankana\n",
      "Ankana\n"
     ]
    }
   ],
   "source": [
    "print(myvar)\n",
    "print(my_var)\n",
    "print(_my_var)\n",
    "print(myVar)\n",
    "print(MYVAR)\n",
    "print(myvar2)"
   ]
  },
  {
   "cell_type": "markdown",
   "id": "950b05ad-5d36-4f0b-a493-86f5d98f1b5a",
   "metadata": {},
   "source": [
    "2. If we declare a restricted keyword as a variable, then we will get a SYNTAX ERROR. "
   ]
  },
  {
   "cell_type": "markdown",
   "id": "d699b787-3ffa-4940-aa14-dcdd129569c8",
   "metadata": {},
   "source": [
    "3. Since strings are data, they may be used to fill a variable. Using strings in our Python applications may be made simpler by declaring them as variables. An Example is given below - "
   ]
  },
  {
   "cell_type": "code",
   "execution_count": null,
   "id": "c2b33a9c-1588-4b0f-8d40-aeeda01d8b0d",
   "metadata": {},
   "outputs": [],
   "source": [
    "\"My Name is Ankana Moulik\""
   ]
  },
  {
   "cell_type": "code",
   "execution_count": 7,
   "id": "37175e39-3dbe-4d7b-9da6-3e4fb7008c25",
   "metadata": {},
   "outputs": [
    {
     "name": "stdout",
     "output_type": "stream",
     "text": [
      "My Name is Ankana Moulik\n"
     ]
    }
   ],
   "source": [
    "print (\"My Name is Ankana Moulik\")"
   ]
  },
  {
   "cell_type": "markdown",
   "id": "888ef471-8433-4919-9d66-fc0f3c395774",
   "metadata": {},
   "source": [
    "4. Yes, It is possible for us to declare “_” as a variable. The example is as follows - "
   ]
  },
  {
   "cell_type": "code",
   "execution_count": 8,
   "id": "fd9f9da0-64dd-49b5-a765-389fe035b5c3",
   "metadata": {},
   "outputs": [],
   "source": [
    "My_Name = \"Ankana Moulik\""
   ]
  },
  {
   "cell_type": "code",
   "execution_count": 14,
   "id": "9b4cfbb7-7205-48d2-a450-fa7babaa5f58",
   "metadata": {},
   "outputs": [
    {
     "name": "stdout",
     "output_type": "stream",
     "text": [
      "Ankana Moulik\n"
     ]
    }
   ],
   "source": [
    "print (My_Name)"
   ]
  },
  {
   "cell_type": "code",
   "execution_count": 15,
   "id": "4becfc1d-4cc8-4a5d-83ed-e849139211e6",
   "metadata": {},
   "outputs": [],
   "source": [
    "My_Number = \"20\""
   ]
  },
  {
   "cell_type": "code",
   "execution_count": 16,
   "id": "e403a68f-b4ab-4282-93af-fe1e09927592",
   "metadata": {},
   "outputs": [
    {
     "name": "stdout",
     "output_type": "stream",
     "text": [
      "20\n"
     ]
    }
   ],
   "source": [
    "print (My_Number)"
   ]
  },
  {
   "cell_type": "markdown",
   "id": "cc6d7e14-db49-4b90-8ff8-86c3a0177006",
   "metadata": {},
   "source": [
    "5. The example to show variables in python are dynamic in nature is as follows - "
   ]
  },
  {
   "cell_type": "code",
   "execution_count": 17,
   "id": "a5346dbe-2b46-485f-91a9-7c9f8ab1057f",
   "metadata": {},
   "outputs": [],
   "source": [
    "A = 2"
   ]
  },
  {
   "cell_type": "code",
   "execution_count": 18,
   "id": "19791ce0-a095-4359-9ea2-978d2c435839",
   "metadata": {},
   "outputs": [
    {
     "data": {
      "text/plain": [
       "int"
      ]
     },
     "execution_count": 18,
     "metadata": {},
     "output_type": "execute_result"
    }
   ],
   "source": [
    "type (A)"
   ]
  },
  {
   "cell_type": "code",
   "execution_count": 19,
   "id": "b8b1f780-453e-447a-8390-d8bfac6e5f4c",
   "metadata": {},
   "outputs": [],
   "source": [
    "A = 2.2"
   ]
  },
  {
   "cell_type": "code",
   "execution_count": 20,
   "id": "8623f560-f375-44cc-a6ac-cc103852c6e1",
   "metadata": {},
   "outputs": [
    {
     "data": {
      "text/plain": [
       "float"
      ]
     },
     "execution_count": 20,
     "metadata": {},
     "output_type": "execute_result"
    }
   ],
   "source": [
    "type (A)"
   ]
  },
  {
   "cell_type": "code",
   "execution_count": 22,
   "id": "08987ba1-c8d3-4389-99fc-c385a051992d",
   "metadata": {},
   "outputs": [],
   "source": [
    "A = \"Ankana Moulik\""
   ]
  },
  {
   "cell_type": "code",
   "execution_count": 23,
   "id": "eae10b88-f82d-42c1-821a-8fc78732ec60",
   "metadata": {},
   "outputs": [
    {
     "data": {
      "text/plain": [
       "str"
      ]
     },
     "execution_count": 23,
     "metadata": {},
     "output_type": "execute_result"
    }
   ],
   "source": [
    "type (A)"
   ]
  },
  {
   "cell_type": "code",
   "execution_count": 24,
   "id": "5875b5d0-ab00-4e98-b132-1073e4df3d21",
   "metadata": {},
   "outputs": [],
   "source": [
    "A = True"
   ]
  },
  {
   "cell_type": "code",
   "execution_count": 26,
   "id": "941db479-8b0d-4acf-8625-d78ec4b988c7",
   "metadata": {},
   "outputs": [
    {
     "data": {
      "text/plain": [
       "bool"
      ]
     },
     "execution_count": 26,
     "metadata": {},
     "output_type": "execute_result"
    }
   ],
   "source": [
    "type (A)"
   ]
  },
  {
   "cell_type": "code",
   "execution_count": 27,
   "id": "dcd1e30c-6963-442a-9178-c57d6eb22c1c",
   "metadata": {},
   "outputs": [],
   "source": [
    "A = 2 + 3j"
   ]
  },
  {
   "cell_type": "code",
   "execution_count": 28,
   "id": "9f429625-1cf2-4122-9a6f-f31da7d636de",
   "metadata": {},
   "outputs": [
    {
     "data": {
      "text/plain": [
       "complex"
      ]
     },
     "execution_count": 28,
     "metadata": {},
     "output_type": "execute_result"
    }
   ],
   "source": [
    "type (A)"
   ]
  },
  {
   "cell_type": "code",
   "execution_count": 29,
   "id": "3b67460a-82d2-4750-aa34-a4949bd6e944",
   "metadata": {},
   "outputs": [
    {
     "data": {
      "text/plain": [
       "3.0"
      ]
     },
     "execution_count": 29,
     "metadata": {},
     "output_type": "execute_result"
    }
   ],
   "source": [
    "A.imag"
   ]
  },
  {
   "cell_type": "code",
   "execution_count": 30,
   "id": "a5c01506-8b63-423b-aa03-c8bca191cbdc",
   "metadata": {},
   "outputs": [
    {
     "data": {
      "text/plain": [
       "2.0"
      ]
     },
     "execution_count": 30,
     "metadata": {},
     "output_type": "execute_result"
    }
   ],
   "source": [
    "A.real"
   ]
  },
  {
   "cell_type": "code",
   "execution_count": null,
   "id": "683bd2e1-4264-49d1-89b0-fd8274fc5129",
   "metadata": {},
   "outputs": [],
   "source": []
  }
 ],
 "metadata": {
  "kernelspec": {
   "display_name": "Python 3 (ipykernel)",
   "language": "python",
   "name": "python3"
  },
  "language_info": {
   "codemirror_mode": {
    "name": "ipython",
    "version": 3
   },
   "file_extension": ".py",
   "mimetype": "text/x-python",
   "name": "python",
   "nbconvert_exporter": "python",
   "pygments_lexer": "ipython3",
   "version": "3.10.8"
  }
 },
 "nbformat": 4,
 "nbformat_minor": 5
}
